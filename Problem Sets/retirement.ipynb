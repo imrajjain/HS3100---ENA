{
 "metadata": {
  "language_info": {
   "codemirror_mode": {
    "name": "ipython",
    "version": 3
   },
   "file_extension": ".py",
   "mimetype": "text/x-python",
   "name": "python",
   "nbconvert_exporter": "python",
   "pygments_lexer": "ipython3",
   "version": "3.8.3-final"
  },
  "orig_nbformat": 2,
  "kernelspec": {
   "name": "python_defaultSpec_1597692474925",
   "display_name": "Python 3.8.3 64-bit ('base': conda)"
  }
 },
 "nbformat": 4,
 "nbformat_minor": 2,
 "cells": [
  {
   "cell_type": "markdown",
   "metadata": {},
   "source": [
    "## The agent object specification is summarized in pseudo-code block 1.<br>\n",
    "OBJECT agent;<br>\n",
    "    type;<br>\n",
    "    age;<br>\n",
    "    death_age;<br>\n",
    "    alive_or_dead;<br>\n",
    "    social_network;<br>\n",
    "    working_or_retired;<br>\n",
    "    next_agent_in_agent_list;<br>\n",
    "    FUNCTION initialize;<br>\n",
    "    FUNCTION retirement_decision;<br>\n",
    "    FUNCTION draw"
   ]
  },
  {
   "cell_type": "code",
   "execution_count": 1,
   "metadata": {},
   "outputs": [],
   "source": [
    "class agent:\n",
    "    def __init__(self,type,age,death_age,alive,social_net,working,next_agent):\n",
    "        self.type = type\n",
    "        self.age = age\n",
    "        self.death_age = death_age\n",
    "        self.alive = alive\n",
    "        self.social_net = social_net\n",
    "        self.working = working\n",
    "        self.next_agent = next_agent\n",
    "\n",
    "    def retirement_decision(self):\n",
    "        "
   ]
  },
  {
   "cell_type": "code",
   "execution_count": 2,
   "metadata": {},
   "outputs": [],
   "source": [
    "a = agent('rational',18,64,1,[4,45,4],1,23)\n"
   ]
  }
 ]
}